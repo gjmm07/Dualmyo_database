{
 "cells": [
  {
   "cell_type": "markdown",
   "id": "bcf68998",
   "metadata": {},
   "source": [
    "## This Notebook handels the Dualmyo Database \n",
    "\n",
    "In this notebook the paper EMG-based online classification of gestures with recurrent neural networks will be copied\n",
    "\n",
    "8 Gestures, 16 Channel-EMG placed on the the wirst and 110 repitions, 5 recordings sessions, 200Hz, 95 synthetic sequences\n",
    "\n",
    "Each sequence has a lenth of about 50sec (about 10000 timestemps)\n",
    "\n",
    "https://zenodo.org/record/1320922#.Y9DlgtLMJhE\n",
    "\n",
    "paper: EMG-based online classification of gestures with recurrent neural networks"
   ]
  },
  {
   "cell_type": "code",
   "execution_count": 437,
   "id": "52be94b7",
   "metadata": {},
   "outputs": [],
   "source": [
    "import pickle\n",
    "import gzip\n",
    "import os\n",
    "import numpy as np\n",
    "import random"
   ]
  },
  {
   "cell_type": "code",
   "execution_count": 438,
   "id": "b6220e0e",
   "metadata": {},
   "outputs": [],
   "source": [
    "opsys = \"Windows\"\n",
    "if opsys == \"Linux\":\n",
    "    path = os.path.abspath(\"/home/finn/Dokumente/EMG_data/UC2018 DualMyo Hand Gesture Dataset/dualmyo_dataset.pkl\")\n",
    "elif opsys == \"Windows\": \n",
    "    path = os.path.abspath(\"C:/Users/Finn/Documents/PlexoMotion/EMG_data/UC2018 DualMyo Hand Gesture Dataset/dualmyo_dataset.pkl\")"
   ]
  },
  {
   "cell_type": "code",
   "execution_count": 439,
   "id": "e1efc73e",
   "metadata": {},
   "outputs": [],
   "source": [
    "with open(path, 'rb') as f:\n",
    "    data = pickle.load(f)"
   ]
  },
  {
   "cell_type": "markdown",
   "id": "5de26a3c",
   "metadata": {},
   "source": [
    "# Extract independant and dependant data \n",
    "## independant data like: samples, length, EMG-channels"
   ]
  },
  {
   "cell_type": "code",
   "execution_count": 440,
   "id": "d2490c8a",
   "metadata": {},
   "outputs": [
    {
     "data": {
      "text/plain": [
       "(881, 400, 20)"
      ]
     },
     "execution_count": 440,
     "metadata": {},
     "output_type": "execute_result"
    }
   ],
   "source": [
    "\n",
    "x, y = data[0], data[1]\n",
    "x = np.concatenate([sample.reshape(((1,) + sample.shape)) for sample in x])\n",
    "y = np.array(y)\n",
    "x.shape"
   ]
  },
  {
   "cell_type": "code",
   "execution_count": 441,
   "id": "ec65e6e0",
   "metadata": {},
   "outputs": [
    {
     "data": {
      "text/plain": [
       "(array([0, 1, 2, 3, 4, 5, 6, 7]),\n",
       " array([110, 110, 110, 110, 111, 110, 110, 110], dtype=int64))"
      ]
     },
     "execution_count": 441,
     "metadata": {},
     "output_type": "execute_result"
    }
   ],
   "source": [
    "np.unique(y, return_counts=True)"
   ]
  },
  {
   "cell_type": "code",
   "execution_count": 442,
   "id": "af782ab7",
   "metadata": {},
   "outputs": [
    {
     "data": {
      "text/plain": [
       "(array([  5,  14,  16,  30,  33,  41,  53,  63,  64,  72,  82,  90, 103,\n",
       "        105, 116, 120, 134, 138, 149, 155, 163, 171, 176, 190, 193, 206,\n",
       "        215, 219, 231, 237, 244, 249, 258, 269, 278, 287, 293, 296, 306,\n",
       "        318, 324, 335, 341, 351, 358, 360, 369, 378, 384, 397, 403, 414,\n",
       "        418, 427, 434, 446, 450, 456, 467, 479, 481, 493, 503, 510, 515,\n",
       "        524, 530, 539, 546, 559, 564, 572, 582, 586, 595, 607, 608, 620,\n",
       "        626, 639, 646, 652, 656, 664, 672, 680, 692, 700, 711, 716, 724,\n",
       "        732, 737, 752, 758, 768, 769, 780, 792, 797, 806, 816, 821, 825,\n",
       "        830, 843, 848, 859, 869, 870], dtype=int64),)"
      ]
     },
     "execution_count": 442,
     "metadata": {},
     "output_type": "execute_result"
    }
   ],
   "source": [
    "np.where(y == 0)"
   ]
  },
  {
   "cell_type": "markdown",
   "id": "60ee3b4b",
   "metadata": {},
   "source": [
    "## Split data indices into train, val and test data "
   ]
  },
  {
   "cell_type": "code",
   "execution_count": 443,
   "id": "8da419ae",
   "metadata": {},
   "outputs": [
    {
     "data": {
      "text/plain": [
       "((528,), (176,), (177,))"
      ]
     },
     "execution_count": 443,
     "metadata": {},
     "output_type": "execute_result"
    }
   ],
   "source": [
    "from sklearn.model_selection import StratifiedShuffleSplit\n",
    "\n",
    "train_ration, val_ratio, test_ratio = 0.6, 0.2, 0.2\n",
    "indices = np.arange(len(y))\n",
    "sss = StratifiedShuffleSplit(random_state=42, test_size=val_ratio+test_ratio).split(indices, y)\n",
    "indx_train, indx_test = next(sss)\n",
    "sss = StratifiedShuffleSplit(random_state=42, test_size=test_ratio/(test_ratio + val_ratio)).split(indx_test, y[indx_test])\n",
    "indx_test, indx_val = next(sss)\n",
    "indx_train.shape, indx_test.shape, indx_val.shape"
   ]
  },
  {
   "cell_type": "markdown",
   "id": "9fd1f6bd",
   "metadata": {},
   "source": [
    "## Generate sequences consisting of n = 8 consecutive gestures"
   ]
  },
  {
   "cell_type": "code",
   "execution_count": 444,
   "id": "d4cb7b7b",
   "metadata": {},
   "outputs": [
    {
     "data": {
      "text/plain": [
       "((66, 3200, 20), (22, 3200, 20), (22, 3200, 20))"
      ]
     },
     "execution_count": 444,
     "metadata": {},
     "output_type": "execute_result"
    }
   ],
   "source": [
    "# set random seeds for repuducability\n",
    "random.seed(42)\n",
    "np.random.seed(42)\n",
    "def return_sequence(x, y, indices, n=8): \n",
    "    # new shape: 66, 3200, 20\n",
    "    length = len(x[indices]) // n\n",
    "    indices = indices[(len(indices) % 8):]\n",
    "    indx_shuf = indices.reshape(length, n)\n",
    "    return x[indx_shuf].reshape(length, -1, x.shape[2]), np.repeat(y[indx_shuf], x.shape[1], axis=1)\n",
    "\n",
    "x_train, y_train = return_sequence(x, y, indx_train)\n",
    "x_test, y_test = return_sequence(x, y, indx_test)\n",
    "x_val, y_val = return_sequence(x, y, indx_val)\n",
    "x_train.shape, x_val.shape, x_test.shape"
   ]
  },
  {
   "cell_type": "markdown",
   "id": "fe245dff",
   "metadata": {},
   "source": [
    "## Sliding windows on each sequence\n",
    "##### because step=1 input array and output have same dimensions except for one window (first)"
   ]
  },
  {
   "cell_type": "code",
   "execution_count": 445,
   "id": "304d446b",
   "metadata": {},
   "outputs": [
    {
     "data": {
      "text/plain": [
       "(204666, 100, 20)"
      ]
     },
     "execution_count": 445,
     "metadata": {},
     "output_type": "execute_result"
    }
   ],
   "source": [
    "from numpy.lib.stride_tricks import sliding_window_view\n",
    "\n",
    "def window_data(ary, length=100, step=1):\n",
    "    \"\"\" Please make sure sensors are on col, time in row \"\"\"\n",
    "    if len(ary.shape) >= 2:\n",
    "        return sliding_window_view(ary,(length, ary.shape[1]))[::step, 0]\n",
    "    else:\n",
    "        return sliding_window_view(ary, length)[::step]\n",
    "    \n",
    "\n",
    "X1 = np.vstack([window_data(x, 100) for x in x_train])\n",
    "X2 = np.vstack([window_data(x, 100) for x in x_val])\n",
    "X3 = np.vstack([window_data(x, 100) for x in x_test])\n",
    "X1.shape"
   ]
  },
  {
   "cell_type": "code",
   "execution_count": 446,
   "id": "d3181ed4",
   "metadata": {},
   "outputs": [
    {
     "data": {
      "text/plain": [
       "(66, 3200)"
      ]
     },
     "execution_count": 446,
     "metadata": {},
     "output_type": "execute_result"
    }
   ],
   "source": [
    "y_train.shape"
   ]
  },
  {
   "cell_type": "code",
   "execution_count": 447,
   "id": "90af9db2",
   "metadata": {},
   "outputs": [
    {
     "data": {
      "text/plain": [
       "(204666,)"
      ]
     },
     "execution_count": 447,
     "metadata": {},
     "output_type": "execute_result"
    }
   ],
   "source": [
    "# keep targets the same length as corresponding X\n",
    "Y1 = np.ravel([[np.argmax(np.bincount(win)) for win in window_data(y, 100)] for y in y_train])\n",
    "Y2 = np.ravel([[np.argmax(np.bincount(win)) for win in window_data(y, 100)] for y in y_val])\n",
    "Y3 = np.ravel([[np.argmax(np.bincount(win)) for win in window_data(y, 100)] for y in y_test])\n",
    "Y1.shape"
   ]
  },
  {
   "cell_type": "code",
   "execution_count": 448,
   "id": "ca40d562",
   "metadata": {},
   "outputs": [
    {
     "data": {
      "text/plain": [
       "(204666, 8)"
      ]
     },
     "execution_count": 448,
     "metadata": {},
     "output_type": "execute_result"
    }
   ],
   "source": [
    "# One Hot Encode Targets\n",
    "from sklearn.preprocessing import OneHotEncoder\n",
    "\n",
    "def check_data(function): \n",
    "    def wrapper(*args): \n",
    "        for arg in args: \n",
    "            if np.max(np.unique(arg)) <= 1:\n",
    "                raise ValueError(\"Data probably already One Hot encoded\")\n",
    "        else:\n",
    "            return function(*args)\n",
    "    return wrapper\n",
    "        \n",
    "\n",
    "@check_data\n",
    "def ohe_targets(train_targets, *targets): \n",
    "    encoder = OneHotEncoder()\n",
    "    encoder.fit(train_targets)\n",
    "    train_targets = encoder.transform(train_targets)\n",
    "    n_tar = []\n",
    "    for tar in targets: \n",
    "        n_tar.append(encoder.transform(tar))\n",
    "    return train_targets.toarray(), *[x.toarray() for x in n_tar]\n",
    "\n",
    "# a, b, c = [np.arange(5).reshape(-1, 1) for i in range(3)]\n",
    "# a, b, c = ohe_targets(a, b, c)\n",
    "# a, b, c\n",
    "Y1, Y2, Y3 = ohe_targets(Y1.reshape(-1, 1), Y2.reshape(-1, 1), Y3.reshape(-1, 1))\n",
    "Y1.shape"
   ]
  },
  {
   "cell_type": "markdown",
   "id": "2e56682f",
   "metadata": {},
   "source": [
    "## Feature Extraction\n",
    "#### Standard deviation on every window and drop of useless cols"
   ]
  },
  {
   "cell_type": "code",
   "execution_count": 449,
   "id": "aeec2662",
   "metadata": {},
   "outputs": [
    {
     "data": {
      "text/plain": [
       "((204666, 16), (68222, 16), (68222, 16))"
      ]
     },
     "execution_count": 449,
     "metadata": {},
     "output_type": "execute_result"
    }
   ],
   "source": [
    "def std(ary): \n",
    "    ary = np.delete(ary, [0, 1, 10, 11], axis=2)\n",
    "    return np.std(ary, axis=1)\n",
    "\n",
    "X1 = std(X1)\n",
    "X2 = std(X2)\n",
    "X3 = std(X3)\n",
    "X1.shape, X2.shape, X3.shape"
   ]
  },
  {
   "cell_type": "markdown",
   "id": "28ac9a94",
   "metadata": {},
   "source": [
    "### Feature Scaling \n"
   ]
  },
  {
   "cell_type": "code",
   "execution_count": 450,
   "id": "89c95680",
   "metadata": {},
   "outputs": [
    {
     "data": {
      "text/plain": [
       "(68222, 16)"
      ]
     },
     "execution_count": 450,
     "metadata": {},
     "output_type": "execute_result"
    }
   ],
   "source": [
    "from sklearn.preprocessing import StandardScaler\n",
    "\n",
    "scaler = StandardScaler()\n",
    "scaler.fit(X1)\n",
    "\n",
    "X1 = scaler.transform(X1)\n",
    "X2 = scaler.transform(X2)\n",
    "X3 = scaler.transform(X3)\n",
    "X3.shape"
   ]
  },
  {
   "cell_type": "markdown",
   "id": "9d523a6e",
   "metadata": {},
   "source": [
    "## LSTM Model for online learning\n",
    "#### stolen from: https://towardsdatascience.com/lstm-for-predictive-maintenance-on-pump-sensor-data-b43486eb3210"
   ]
  },
  {
   "cell_type": "code",
   "execution_count": 451,
   "id": "6ba55504",
   "metadata": {},
   "outputs": [
    {
     "data": {
      "text/plain": [
       "((120000, 3), (204666, 8))"
      ]
     },
     "execution_count": 451,
     "metadata": {},
     "output_type": "execute_result"
    }
   ],
   "source": [
    "# samples, timesteps, sensor\n",
    "xtrain, ytrain = np.random.rand(120000, 1, 45), np.random.randint(3, size=120000)\n",
    "xval, yval = np.random.rand(79912, 1, 45), np.random.randint(3, size=79912)\n",
    "ytrain_hot, yval_hot = ohe_targets(ytrain.reshape(-1, 1), yval.reshape(-1, 1))\n",
    "ytrain_hot.shape, Y1.shape"
   ]
  },
  {
   "cell_type": "code",
   "execution_count": 452,
   "id": "aa751989",
   "metadata": {},
   "outputs": [],
   "source": [
    "if True: \n",
    "    xtrain = X1.reshape(X1.shape[0], 1, X1.shape[1])\n",
    "    ytrain, ytrain_hot = np.argmax(Y1, axis=1), Y1\n",
    "    xval = X2.reshape(X2.shape[0], 1, X2.shape[1])\n",
    "    yval, yval_hot = np.argmax(Y2, axis=1), Y2"
   ]
  },
  {
   "cell_type": "code",
   "execution_count": 453,
   "id": "2c162800",
   "metadata": {},
   "outputs": [
    {
     "name": "stdout",
     "output_type": "stream",
     "text": [
      "Model: \"model_21\"\n",
      "__________________________________________________________________________________________________\n",
      " Layer (type)                   Output Shape         Param #     Connected to                     \n",
      "==================================================================================================\n",
      " input_33 (InputLayer)          [(None, 1, 16)]      0           []                               \n",
      "                                                                                                  \n",
      " lstm_48 (LSTM)                 (None, 1, 42)        9912        ['input_33[0][0]']               \n",
      "                                                                                                  \n",
      " lstm_49 (LSTM)                 (None, 42)           14280       ['lstm_48[0][0]']                \n",
      "                                                                                                  \n",
      " signal_out (Dense)             (None, 1)            43          ['lstm_49[0][0]']                \n",
      "                                                                                                  \n",
      " class_out (Dense)              (None, 8)            344         ['lstm_49[0][0]']                \n",
      "                                                                                                  \n",
      "==================================================================================================\n",
      "Total params: 24,579\n",
      "Trainable params: 24,579\n",
      "Non-trainable params: 0\n",
      "__________________________________________________________________________________________________\n"
     ]
    }
   ],
   "source": [
    "import tensorflow as tf\n",
    "from keras.layers import LSTM, Dropout, Dense\n",
    "\n",
    "\n",
    "# form: samples (0), timesteps (1), sensor (2)\n",
    "inputs = tf.keras.Input(shape=(xtrain.shape[1], xtrain.shape[2]))\n",
    "x = LSTM(42, activation=\"relu\", input_shape=(xtrain.shape[1], xtrain.shape[2]), return_sequences=True)(inputs)\n",
    "x = LSTM(42, activation=\"relu\")(x)\n",
    "out_signal = Dense(1, name=\"signal_out\")(x)\n",
    "out_class = Dense(8, activation=\"softmax\", name=\"class_out\")(x)\n",
    "\n",
    "model = tf.keras.Model(inputs=inputs, outputs=[out_signal, out_class])\n",
    "\n",
    "model.compile(loss={\"signal_out\": \"mean_squared_error\", \n",
    "                   \"class_out\": \"categorical_crossentropy\"}, \n",
    "             optimizer=\"adam\", \n",
    "             metrics={\"class_out\": \"acc\"})\n",
    "model.summary()"
   ]
  },
  {
   "cell_type": "code",
   "execution_count": 454,
   "id": "071d99b7",
   "metadata": {},
   "outputs": [
    {
     "name": "stdout",
     "output_type": "stream",
     "text": [
      "Epoch 1/20\n",
      "6396/6396 [==============================] - 16s 2ms/step - loss: 3.6569 - signal_out_loss: 2.9214 - class_out_loss: 0.7355 - class_out_acc: 0.7475 - val_loss: 2.8743 - val_signal_out_loss: 2.4984 - val_class_out_loss: 0.3759 - val_class_out_acc: 0.8634\n",
      "Epoch 2/20\n",
      "6396/6396 [==============================] - 13s 2ms/step - loss: 1.9825 - signal_out_loss: 1.6695 - class_out_loss: 0.3129 - class_out_acc: 0.8863 - val_loss: 2.4411 - val_signal_out_loss: 2.1100 - val_class_out_loss: 0.3311 - val_class_out_acc: 0.8769\n",
      "Epoch 3/20\n",
      "6396/6396 [==============================] - 13s 2ms/step - loss: 1.7349 - signal_out_loss: 1.4629 - class_out_loss: 0.2720 - class_out_acc: 0.8986 - val_loss: 2.4265 - val_signal_out_loss: 2.0966 - val_class_out_loss: 0.3299 - val_class_out_acc: 0.8811\n",
      "Epoch 4/20\n",
      "6396/6396 [==============================] - 13s 2ms/step - loss: 1.6041 - signal_out_loss: 1.3540 - class_out_loss: 0.2501 - class_out_acc: 0.9023 - val_loss: 2.2548 - val_signal_out_loss: 1.9512 - val_class_out_loss: 0.3036 - val_class_out_acc: 0.8884\n",
      "Epoch 5/20\n",
      "6396/6396 [==============================] - 13s 2ms/step - loss: 1.5366 - signal_out_loss: 1.2947 - class_out_loss: 0.2419 - class_out_acc: 0.9083 - val_loss: 2.1910 - val_signal_out_loss: 1.8910 - val_class_out_loss: 0.3000 - val_class_out_acc: 0.8962\n",
      "Epoch 6/20\n",
      "6396/6396 [==============================] - 13s 2ms/step - loss: 1.4609 - signal_out_loss: 1.2338 - class_out_loss: 0.2271 - class_out_acc: 0.9135 - val_loss: 2.1203 - val_signal_out_loss: 1.8403 - val_class_out_loss: 0.2800 - val_class_out_acc: 0.8995\n",
      "Epoch 7/20\n",
      "6396/6396 [==============================] - 13s 2ms/step - loss: 1.4031 - signal_out_loss: 1.1869 - class_out_loss: 0.2162 - class_out_acc: 0.9166 - val_loss: 2.0916 - val_signal_out_loss: 1.8159 - val_class_out_loss: 0.2757 - val_class_out_acc: 0.9006\n",
      "Epoch 8/20\n",
      "6396/6396 [==============================] - 13s 2ms/step - loss: 1.3483 - signal_out_loss: 1.1416 - class_out_loss: 0.2067 - class_out_acc: 0.9201 - val_loss: 2.0024 - val_signal_out_loss: 1.7403 - val_class_out_loss: 0.2621 - val_class_out_acc: 0.9059\n",
      "Epoch 9/20\n",
      "6396/6396 [==============================] - 13s 2ms/step - loss: 1.3010 - signal_out_loss: 1.1016 - class_out_loss: 0.1994 - class_out_acc: 0.9237 - val_loss: 1.9597 - val_signal_out_loss: 1.7064 - val_class_out_loss: 0.2533 - val_class_out_acc: 0.9095\n",
      "Epoch 10/20\n",
      "6396/6396 [==============================] - 13s 2ms/step - loss: 1.2656 - signal_out_loss: 1.0733 - class_out_loss: 0.1923 - class_out_acc: 0.9280 - val_loss: 1.9218 - val_signal_out_loss: 1.6665 - val_class_out_loss: 0.2553 - val_class_out_acc: 0.9090\n",
      "Epoch 11/20\n",
      "6396/6396 [==============================] - 13s 2ms/step - loss: 1.2362 - signal_out_loss: 1.0494 - class_out_loss: 0.1867 - class_out_acc: 0.9292 - val_loss: 1.8923 - val_signal_out_loss: 1.6397 - val_class_out_loss: 0.2526 - val_class_out_acc: 0.9091\n",
      "Epoch 12/20\n",
      "6396/6396 [==============================] - 13s 2ms/step - loss: 1.2072 - signal_out_loss: 1.0248 - class_out_loss: 0.1824 - class_out_acc: 0.9317 - val_loss: 1.8787 - val_signal_out_loss: 1.6307 - val_class_out_loss: 0.2480 - val_class_out_acc: 0.9116\n",
      "Epoch 13/20\n",
      "6396/6396 [==============================] - 13s 2ms/step - loss: 1.1819 - signal_out_loss: 1.0038 - class_out_loss: 0.1781 - class_out_acc: 0.9325 - val_loss: 1.8506 - val_signal_out_loss: 1.6046 - val_class_out_loss: 0.2460 - val_class_out_acc: 0.9133\n",
      "Epoch 14/20\n",
      "6396/6396 [==============================] - 13s 2ms/step - loss: 1.1656 - signal_out_loss: 0.9915 - class_out_loss: 0.1741 - class_out_acc: 0.9340 - val_loss: 1.8342 - val_signal_out_loss: 1.5883 - val_class_out_loss: 0.2459 - val_class_out_acc: 0.9140\n",
      "Epoch 15/20\n",
      "6396/6396 [==============================] - 13s 2ms/step - loss: 1.1424 - signal_out_loss: 0.9719 - class_out_loss: 0.1704 - class_out_acc: 0.9348 - val_loss: 1.8295 - val_signal_out_loss: 1.5834 - val_class_out_loss: 0.2461 - val_class_out_acc: 0.9145\n",
      "Epoch 16/20\n",
      "6396/6396 [==============================] - 13s 2ms/step - loss: 1.1219 - signal_out_loss: 0.9557 - class_out_loss: 0.1661 - class_out_acc: 0.9353 - val_loss: 1.8273 - val_signal_out_loss: 1.5752 - val_class_out_loss: 0.2521 - val_class_out_acc: 0.9149\n",
      "Epoch 17/20\n",
      "6396/6396 [==============================] - 13s 2ms/step - loss: 1.0995 - signal_out_loss: 0.9370 - class_out_loss: 0.1625 - class_out_acc: 0.9369 - val_loss: 1.8270 - val_signal_out_loss: 1.5719 - val_class_out_loss: 0.2551 - val_class_out_acc: 0.9143\n",
      "Epoch 18/20\n",
      "6396/6396 [==============================] - 14s 2ms/step - loss: 1.0809 - signal_out_loss: 0.9222 - class_out_loss: 0.1586 - class_out_acc: 0.9384 - val_loss: 1.7977 - val_signal_out_loss: 1.5409 - val_class_out_loss: 0.2568 - val_class_out_acc: 0.9140\n",
      "Epoch 19/20\n",
      "6396/6396 [==============================] - 13s 2ms/step - loss: 1.0619 - signal_out_loss: 0.9053 - class_out_loss: 0.1566 - class_out_acc: 0.9403 - val_loss: 1.7766 - val_signal_out_loss: 1.5165 - val_class_out_loss: 0.2601 - val_class_out_acc: 0.9131\n",
      "Epoch 20/20\n",
      "6396/6396 [==============================] - 13s 2ms/step - loss: 1.0439 - signal_out_loss: 0.8913 - class_out_loss: 0.1526 - class_out_acc: 0.9413 - val_loss: 1.7412 - val_signal_out_loss: 1.4808 - val_class_out_loss: 0.2604 - val_class_out_acc: 0.9137\n"
     ]
    }
   ],
   "source": [
    "history = model.fit(xtrain, [ytrain, ytrain_hot], epochs=20, batch_size=32, validation_data=(xval, [yval, yval_hot]), shuffle=False)"
   ]
  },
  {
   "cell_type": "code",
   "execution_count": 456,
   "id": "9e67caa8",
   "metadata": {},
   "outputs": [
    {
     "data": {
      "text/plain": [
       "Text(0.5, 1.0, 'MODEL LOSS')"
      ]
     },
     "execution_count": 456,
     "metadata": {},
     "output_type": "execute_result"
    },
    {
     "data": {
      "image/png": "[encoded data removed]",
      "text/plain": [
       "<Figure size 640x480 with 1 Axes>"
      ]
     },
     "metadata": {},
     "output_type": "display_data"
    }
   ],
   "source": [
    "import matplotlib.pyplot as plt\n",
    "\n",
    "plt.plot(history.history[\"class_out_loss\"])\n",
    "plt.plot(history.history[\"val_class_out_loss\"])\n",
    "plt.title(\"MODEL LOSS\")"
   ]
  },
  {
   "cell_type": "code",
   "execution_count": 458,
   "id": "9b583003",
   "metadata": {},
   "outputs": [
    {
     "data": {
      "text/plain": [
       "Text(0.5, 1.0, 'MODEL ACCURACY')"
      ]
     },
     "execution_count": 458,
     "metadata": {},
     "output_type": "execute_result"
    },
    {
     "data": {
      "image/png": "[encoded data removed]",
      "text/plain": [
       "<Figure size 640x480 with 1 Axes>"
      ]
     },
     "metadata": {},
     "output_type": "display_data"
    }
   ],
   "source": [
    "plt.plot(history.history[\"class_out_acc\"])\n",
    "plt.plot(history.history[\"val_class_out_acc\"])\n",
    "plt.title(\"MODEL ACCURACY\")"
   ]
  },
  {
   "cell_type": "code",
   "execution_count": null,
   "id": "b3644d32",
   "metadata": {},
   "outputs": [],
   "source": []
  }
 ],
 "metadata": {
  "kernelspec": {
   "display_name": "Python 3 (ipykernel)",
   "language": "python",
   "name": "python3"
  },
  "language_info": {
   "codemirror_mode": {
    "name": "ipython",
    "version": 3
   },
   "file_extension": ".py",
   "mimetype": "text/x-python",
   "name": "python",
   "nbconvert_exporter": "python",
   "pygments_lexer": "ipython3",
   "version": "3.9.13"
  }
 },
 "nbformat": 4,
 "nbformat_minor": 5
}
